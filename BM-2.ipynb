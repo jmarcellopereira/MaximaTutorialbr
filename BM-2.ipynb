{
 "cells": [
  {
   "cell_type": "markdown",
   "metadata": {},
   "source": [
    "** AJUSTE DE CURVAS USANDO UMA COMBINAÇÃO LINEAR DE FUNÇÕES NÃO-LINEARES **"
   ]
  },
  {
   "cell_type": "code",
   "execution_count": 33,
   "metadata": {
    "collapsed": true
   },
   "outputs": [],
   "source": [
    "workspace()"
   ]
  },
  {
   "cell_type": "code",
   "execution_count": 49,
   "metadata": {
    "collapsed": false,
    "scrolled": true
   },
   "outputs": [
    {
     "data": {
      "text/plain": [
       "ajcmq (generic function with 1 method)"
      ]
     },
     "execution_count": 49,
     "metadata": {},
     "output_type": "execute_result"
    }
   ],
   "source": [
    "function ajcmq(n)\n",
    "    x = linspace(0.5,1000,n)\n",
    "    y = ones(length(x),1)\n",
    "    a = ones(2,2)\n",
    "    b = ones(2)\n",
    "    \n",
    "    for i = 1:length(x)\n",
    "        y[i] = 0.0743/x[i] -(0.0597*exp(-2*x[i]^2))/x[i] + rand()/1000 ;\n",
    "    end\n",
    "\n",
    "    a[1,1] = sum(1./x.^2);\n",
    "    a[1,2] = sum(exp(-2*x.^2)./x.^2);\n",
    "    a[2,1] = a[1,2];\n",
    "    a[2,2] = sum(exp(-4*x.^2)./x.^2);\n",
    "    b[1,1] = sum(y./x);\n",
    "    b[2,1] = sum((y.*exp(-2*x.^2))./x);\n",
    "    AB = a\\b\n",
    "    xfit = x;\n",
    "    yfit = AB[1]./xfit + AB[2]*exp(-2*xfit.^2)./xfit;\n",
    "   \n",
    "    return AB    \n",
    "end"
   ]
  },
  {
   "cell_type": "code",
   "execution_count": 54,
   "metadata": {
    "collapsed": false
   },
   "outputs": [
    {
     "name": "stdout",
     "output_type": "stream",
     "text": [
      "  "
     ]
    },
    {
     "data": {
      "text/plain": [
       "2-element Array{Float64,1}:\n",
       "  0.0777133\n",
       " -0.0668863"
      ]
     },
     "execution_count": 54,
     "metadata": {},
     "output_type": "execute_result"
    },
    {
     "name": "stdout",
     "output_type": "stream",
     "text": [
      "0.029816 seconds (202 allocations: 19.843 MB, 6.62% gc time)\n"
     ]
    }
   ],
   "source": [
    "@time ajcmq(100000)"
   ]
  },
  {
   "cell_type": "code",
   "execution_count": 41,
   "metadata": {
    "collapsed": false
   },
   "outputs": [
    {
     "data": {
      "text/plain": [
       "(10,)"
      ]
     },
     "execution_count": 41,
     "metadata": {},
     "output_type": "execute_result"
    }
   ],
   "source": [
    "x = linspace(0.6,2,10)\n",
    "x = linspace(0.5,10,10)\n",
    "\n",
    "size(x)"
   ]
  },
  {
   "cell_type": "code",
   "execution_count": 170,
   "metadata": {
    "collapsed": false,
    "scrolled": true
   },
   "outputs": [
    {
     "data": {
      "text/plain": [
       "0.0035419464111328125"
      ]
     },
     "metadata": {},
     "output_type": "display_data"
    },
    {
     "data": {
      "text/plain": [
       "0.0002620220184326172"
      ]
     },
     "metadata": {},
     "output_type": "display_data"
    }
   ],
   "source": [
    "t1 = ones(50)\n",
    "\n",
    "for i = 1:50\n",
    "    t1[i] = ajcmq(1000);\n",
    "    #sleep(2)\n",
    "end\n",
    "\n",
    "println(\"maximo: \",maximum(t1))\n",
    "println(\"minimo: \",minimum(t2))\n",
    "println(\"T medio: \",mean(t3))"
   ]
  },
  {
   "cell_type": "code",
   "execution_count": 176,
   "metadata": {
    "collapsed": false
   },
   "outputs": [
    {
     "name": "stdout",
     "output_type": "stream",
     "text": [
      "maximo: 0.004111051559448242\n",
      "minimo: 0.002402067184448242\n",
      "T medio: 0.02520252227783203\n"
     ]
    }
   ],
   "source": [
    "t2  = ones(50)\n",
    "\n",
    "for i = 1:50\n",
    "    t2[i] = ajcmq(10000);\n",
    "    #sleep(2)\n",
    "end\n",
    "\n",
    "println(\"maximo: \",maximum(t2))\n",
    "println(\"minimo: \",minimum(t2))\n",
    "println(\"T medio: \",mean(t3))"
   ]
  },
  {
   "cell_type": "code",
   "execution_count": 175,
   "metadata": {
    "collapsed": false
   },
   "outputs": [
    {
     "name": "stdout",
     "output_type": "stream",
     "text": [
      "maximo: 0.026376962661743164\n",
      "minimo: 0.02403712272644043\n",
      "T medio: 0.02520252227783203\n"
     ]
    }
   ],
   "source": [
    "t3 = ones(50)\n",
    "\n",
    "for i = 1:50\n",
    "    t3[i] = ajcmq(100000);\n",
    "    #sleep(2)\n",
    "end\n",
    "   \n",
    "println(\"maximo: \",maximum(t3))\n",
    "println(\"minimo: \",minimum(t3))\n",
    "println(\"T medio: \",mean(t3))"
   ]
  },
  {
   "cell_type": "code",
   "execution_count": 177,
   "metadata": {
    "collapsed": false,
    "scrolled": true
   },
   "outputs": [
    {
     "name": "stdout",
     "output_type": "stream",
     "text": [
      "maximo: 0.3449740409851074\n",
      "minimo: 0.2866239547729492\n",
      "T medio: 0.32582961082458495\n"
     ]
    }
   ],
   "source": [
    "t4 = ones(50)\n",
    "\n",
    "for i = 1:50\n",
    "    t4[i] = ajcmq(1000000);\n",
    "    #sleep(2)\n",
    "end\n",
    "   \n",
    "println(\"maximo: \",maximum(t4))\n",
    "println(\"minimo: \",minimum(t4))\n",
    "println(\"T medio: \",mean(t4))"
   ]
  },
  {
   "cell_type": "code",
   "execution_count": 179,
   "metadata": {
    "collapsed": false,
    "scrolled": true
   },
   "outputs": [
    {
     "name": "stdout",
     "output_type": "stream",
     "text": [
      "maximo: 3.0965521335601807\n",
      "minimo: 2.901186943054199\n",
      "T medio: 2.9819523382186888\n"
     ]
    }
   ],
   "source": [
    "t5 = ones(50)\n",
    "\n",
    "for i = 1:50\n",
    "    t5[i] = ajcmq(10000000);\n",
    "    #sleep(2)\n",
    "end\n",
    "   \n",
    "println(\"maximo: \",maximum(t5))\n",
    "println(\"minimo: \",minimum(t5))\n",
    "println(\"T medio: \",mean(t5))"
   ]
  },
  {
   "cell_type": "code",
   "execution_count": 7,
   "metadata": {
    "collapsed": true
   },
   "outputs": [],
   "source": [
    "using Benchmarks"
   ]
  },
  {
   "cell_type": "code",
   "execution_count": 13,
   "metadata": {
    "collapsed": false
   },
   "outputs": [
    {
     "data": {
      "text/plain": [
       "0.033789873123168945"
      ]
     },
     "execution_count": 13,
     "metadata": {},
     "output_type": "execute_result"
    }
   ],
   "source": [
    "b = ajcmq(100000)"
   ]
  },
  {
   "cell_type": "code",
   "execution_count": 17,
   "metadata": {
    "collapsed": false
   },
   "outputs": [
    {
     "data": {
      "text/plain": [
       "0.026242211"
      ]
     },
     "execution_count": 17,
     "metadata": {},
     "output_type": "execute_result"
    }
   ],
   "source": [
    "c = @elapsed ajcmq(100000)"
   ]
  },
  {
   "cell_type": "code",
   "execution_count": 16,
   "metadata": {
    "collapsed": false
   },
   "outputs": [
    {
     "data": {
      "text/plain": [
       "================ Benchmark Results ========================\n",
       "     Time per evaluation: 25.69 ms [24.67 ms, 26.71 ms]\n",
       "Proportion of time in GC: 2.72% [1.56%, 3.88%]\n",
       "        Memory allocated: 19.84 mb\n",
       "   Number of allocations: 176 allocations\n",
       "       Number of samples: 100\n",
       "   Number of evaluations: 100\n",
       " Time spent benchmarking: 2.71 s\n"
      ]
     },
     "execution_count": 16,
     "metadata": {},
     "output_type": "execute_result"
    }
   ],
   "source": [
    "a = @benchmark ajcmq(100000)"
   ]
  },
  {
   "cell_type": "code",
   "execution_count": 164,
   "metadata": {
    "collapsed": false,
    "scrolled": false
   },
   "outputs": [
    {
     "data": {
      "image/png": "[encoded data removed]",
      "text/plain": [
       "Winston.FramedPlot(...)"
      ]
     },
     "execution_count": 164,
     "metadata": {},
     "output_type": "execute_result"
    }
   ],
   "source": [
    "Winston.bar(1:50,t2)"
   ]
  },
  {
   "cell_type": "code",
   "execution_count": null,
   "metadata": {
    "collapsed": true
   },
   "outputs": [],
   "source": []
  }
 ],
 "metadata": {
  "kernelspec": {
   "display_name": "Julia 0.4.5",
   "language": "julia",
   "name": "julia-0.4"
  },
  "language_info": {
   "file_extension": ".jl",
   "mimetype": "application/julia",
   "name": "julia",
   "version": "0.4.5"
  }
 },
 "nbformat": 4,
 "nbformat_minor": 0
}
